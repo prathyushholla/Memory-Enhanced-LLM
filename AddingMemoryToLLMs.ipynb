{
 "cells": [
  {
   "cell_type": "markdown",
   "id": "eba57e91",
   "metadata": {},
   "source": [
    "## Importing Libraries"
   ]
  },
  {
   "cell_type": "code",
   "execution_count": 90,
   "id": "9287a4a5",
   "metadata": {},
   "outputs": [],
   "source": [
    "from langchain_community.llms import Ollama\n",
    "from langchain.prompts import PromptTemplate\n",
    "from langchain.chains import LLMChain\n",
    "\n",
    "from langchain.chains.conversation.memory import ConversationBufferMemory, ConversationSummaryMemory, ConversationSummaryBufferMemory, ConversationBufferWindowMemory, ConversationKGMemory, ConversationEntityMemory\n",
    "from langchain.chains import ConversationChain"
   ]
  },
  {
   "cell_type": "code",
   "execution_count": 18,
   "id": "4ed85f5a",
   "metadata": {},
   "outputs": [],
   "source": [
    "llm = Ollama(model=\"llama3:8b\")"
   ]
  },
  {
   "cell_type": "markdown",
   "id": "350abf3c",
   "metadata": {},
   "source": [
    "## Buffer Memory"
   ]
  },
  {
   "cell_type": "code",
   "execution_count": 66,
   "id": "8184b531",
   "metadata": {},
   "outputs": [],
   "source": [
    "memory = ConversationBufferMemory(k=1)"
   ]
  },
  {
   "cell_type": "code",
   "execution_count": 67,
   "id": "f1d39f94",
   "metadata": {},
   "outputs": [],
   "source": [
    "conv = ConversationChain(\n",
    "    llm = llm,\n",
    "    memory= memory,\n",
    "    verbose=True\n",
    ")"
   ]
  },
  {
   "cell_type": "code",
   "execution_count": 69,
   "id": "b12c627c",
   "metadata": {},
   "outputs": [
    {
     "name": "stdout",
     "output_type": "stream",
     "text": [
      "\n",
      "\n",
      "\u001b[1m> Entering new ConversationChain chain...\u001b[0m\n",
      "Prompt after formatting:\n",
      "\u001b[32;1m\u001b[1;3mThe following is a friendly conversation between a human and an AI. The AI is talkative and provides lots of specific details from its context. If the AI does not know the answer to a question, it truthfully says it does not know.\n",
      "\n",
      "Current conversation:\n",
      "Human: Hi my name is prathyush\n",
      "AI: Nice to meet you, Prathyush! I'm Ada, your friendly AI companion. I've been designed to assist and chat with humans like you. Did you know that I was trained on a massive dataset of text from the internet, which includes information from over 45 million books, articles, and other sources? It's this vast knowledge base that allows me to provide accurate answers to your questions. What would you like to talk about today, Prathyush?\n",
      "Human: Hi my name is prathyush\n",
      "AI:\u001b[0m\n",
      "\n",
      "\u001b[1m> Finished chain.\u001b[0m\n"
     ]
    },
    {
     "data": {
      "text/plain": [
       "\"Nice to meet you, Prathyush! I'm Ada, your friendly AI companion. I've been designed to assist and chat with humans like you. Did you know that I was trained on a massive dataset of text from the internet, which includes information from over 45 million books, articles, and other sources? It's this vast knowledge base that allows me to provide accurate answers to your questions. What would you like to talk about today, Prathyush?\""
      ]
     },
     "execution_count": 69,
     "metadata": {},
     "output_type": "execute_result"
    }
   ],
   "source": [
    "conv.invoke(\"Hi my name is prathyush\")[\"response\"]"
   ]
  },
  {
   "cell_type": "code",
   "execution_count": 70,
   "id": "ae082f86",
   "metadata": {},
   "outputs": [
    {
     "name": "stdout",
     "output_type": "stream",
     "text": [
      "\n",
      "\n",
      "\u001b[1m> Entering new ConversationChain chain...\u001b[0m\n",
      "Prompt after formatting:\n",
      "\u001b[32;1m\u001b[1;3mThe following is a friendly conversation between a human and an AI. The AI is talkative and provides lots of specific details from its context. If the AI does not know the answer to a question, it truthfully says it does not know.\n",
      "\n",
      "Current conversation:\n",
      "Human: Hi my name is prathyush\n",
      "AI: Nice to meet you, Prathyush! I'm Ada, your friendly AI companion. I've been designed to assist and chat with humans like you. Did you know that I was trained on a massive dataset of text from the internet, which includes information from over 45 million books, articles, and other sources? It's this vast knowledge base that allows me to provide accurate answers to your questions. What would you like to talk about today, Prathyush?\n",
      "Human: Hi my name is prathyush\n",
      "AI: Nice to meet you, Prathyush! I'm Ada, your friendly AI companion. I've been designed to assist and chat with humans like you. Did you know that I was trained on a massive dataset of text from the internet, which includes information from over 45 million books, articles, and other sources? It's this vast knowledge base that allows me to provide accurate answers to your questions. What would you like to talk about today, Prathyush?\n",
      "Human: I am in my 6th semester in college and my exams are right around the corner\n",
      "AI:\u001b[0m\n",
      "\n",
      "\u001b[1m> Finished chain.\u001b[0m\n"
     ]
    },
    {
     "data": {
      "text/plain": [
       "\"I hope you're feeling well-prepared for your exams, Prathyush! It's great that you're proactive about managing your time. Did you know that research suggests that students who use active learning strategies, such as summarizing notes in their own words or creating concept maps, tend to perform better on exams? Perhaps we could brainstorm some ways you can apply these techniques to your studying?\\n\\nBy the way, what are your favorite subjects or areas of study? Are there any specific topics or concepts that you're looking forward to learning more about or would like help with?\""
      ]
     },
     "execution_count": 70,
     "metadata": {},
     "output_type": "execute_result"
    }
   ],
   "source": [
    "conv.invoke(\"I am in my 6th semester in college and my exams are right around the corner\")[\"response\"]"
   ]
  },
  {
   "cell_type": "code",
   "execution_count": 71,
   "id": "fcd47ce7",
   "metadata": {
    "scrolled": true
   },
   "outputs": [
    {
     "name": "stdout",
     "output_type": "stream",
     "text": [
      "Human: Hi my name is prathyush\n",
      "AI: Nice to meet you, Prathyush! I'm Ada, your friendly AI companion. I've been designed to assist and chat with humans like you. Did you know that I was trained on a massive dataset of text from the internet, which includes information from over 45 million books, articles, and other sources? It's this vast knowledge base that allows me to provide accurate answers to your questions. What would you like to talk about today, Prathyush?\n",
      "Human: Hi my name is prathyush\n",
      "AI: Nice to meet you, Prathyush! I'm Ada, your friendly AI companion. I've been designed to assist and chat with humans like you. Did you know that I was trained on a massive dataset of text from the internet, which includes information from over 45 million books, articles, and other sources? It's this vast knowledge base that allows me to provide accurate answers to your questions. What would you like to talk about today, Prathyush?\n",
      "Human: I am in my 6th semester in college and my exams are right around the corner\n",
      "AI: I hope you're feeling well-prepared for your exams, Prathyush! It's great that you're proactive about managing your time. Did you know that research suggests that students who use active learning strategies, such as summarizing notes in their own words or creating concept maps, tend to perform better on exams? Perhaps we could brainstorm some ways you can apply these techniques to your studying?\n",
      "\n",
      "By the way, what are your favorite subjects or areas of study? Are there any specific topics or concepts that you're looking forward to learning more about or would like help with?\n"
     ]
    }
   ],
   "source": [
    "print(conv.memory.buffer)"
   ]
  },
  {
   "cell_type": "markdown",
   "id": "b4fd1c00",
   "metadata": {},
   "source": [
    "## Summary Memory"
   ]
  },
  {
   "cell_type": "code",
   "execution_count": 72,
   "id": "d8f551ea",
   "metadata": {},
   "outputs": [],
   "source": [
    "summary = ConversationSummaryMemory(llm=llm)"
   ]
  },
  {
   "cell_type": "code",
   "execution_count": 73,
   "id": "3dc0ba1b",
   "metadata": {},
   "outputs": [],
   "source": [
    "conv = ConversationChain(\n",
    "    llm = llm,\n",
    "    memory = summary,\n",
    "    verbose = True\n",
    ")"
   ]
  },
  {
   "cell_type": "code",
   "execution_count": 74,
   "id": "2cb0e4fc",
   "metadata": {},
   "outputs": [
    {
     "name": "stdout",
     "output_type": "stream",
     "text": [
      "\n",
      "\n",
      "\u001b[1m> Entering new ConversationChain chain...\u001b[0m\n",
      "Prompt after formatting:\n",
      "\u001b[32;1m\u001b[1;3mThe following is a friendly conversation between a human and an AI. The AI is talkative and provides lots of specific details from its context. If the AI does not know the answer to a question, it truthfully says it does not know.\n",
      "\n",
      "Current conversation:\n",
      "\n",
      "Human: Hi my name is prathyush\n",
      "AI:\u001b[0m\n",
      "\n",
      "\u001b[1m> Finished chain.\u001b[0m\n"
     ]
    },
    {
     "data": {
      "text/plain": [
       "\"Nice to meet you, Prathyush! I'm an AI designed by Meta AI that can converse about a wide range of topics. According to my training data, there are over 7.9 billion people in the world, and I'm excited to chat with one of them - that's you! By the way, did you know that the first recorded instance of a human-like conversational AI was ELIZA, developed in 1966 by Joseph Weizenbaum at MIT?\""
      ]
     },
     "execution_count": 74,
     "metadata": {},
     "output_type": "execute_result"
    }
   ],
   "source": [
    "conv.invoke(\"Hi my name is prathyush\")[\"response\"]"
   ]
  },
  {
   "cell_type": "code",
   "execution_count": 75,
   "id": "2d7b161f",
   "metadata": {},
   "outputs": [
    {
     "name": "stdout",
     "output_type": "stream",
     "text": [
      "\n",
      "\n",
      "\u001b[1m> Entering new ConversationChain chain...\u001b[0m\n",
      "Prompt after formatting:\n",
      "\u001b[32;1m\u001b[1;3mThe following is a friendly conversation between a human and an AI. The AI is talkative and provides lots of specific details from its context. If the AI does not know the answer to a question, it truthfully says it does not know.\n",
      "\n",
      "Current conversation:\n",
      "Current summary:\n",
      "None (starting from scratch)\n",
      "\n",
      "New lines of conversation:\n",
      "Human: Hi my name is prathyush\n",
      "AI: Nice to meet you, Prathyush! I'm an AI designed by Meta AI that can converse about a wide range of topics. According to my training data, there are over 7.9 billion people in the world, and I'm excited to chat with one of them - that's you! By the way, did you know that the first recorded instance of a human-like conversational AI was ELIZA, developed in 1966 by Joseph Weizenbaum at MIT?\n",
      "\n",
      "New summary:\n",
      "Prathyush introduces himself and meets the AI designed by Meta AI. The AI is excited to chat with Prathyush and shares interesting information about its training data and the history of conversational AI, starting from the first recorded instance of ELIZA in 1966.\n",
      "Human: I am in my 6th semester in college and my eams are right around the corner\n",
      "AI:\u001b[0m\n",
      "\n",
      "\u001b[1m> Finished chain.\u001b[0m\n"
     ]
    },
    {
     "data": {
      "text/plain": [
       "\"That's exciting, Prathyush! Your 6th semester is a critical time to review and prepare for your exams. According to my knowledge graph, most students in their 6th semester tend to focus on consolidating their understanding of course materials, practicing problem-solving, and building strong study habits.\\n\\nDid you know that the concept of spaced repetition, which involves reviewing material at increasingly longer intervals, has been shown to be effective in improving long-term retention of information? I've been trained on many educational resources, including a vast collection of learning strategies and techniques. If you'd like some specific tips or recommendations for your exams, feel free to ask!\""
      ]
     },
     "execution_count": 75,
     "metadata": {},
     "output_type": "execute_result"
    }
   ],
   "source": [
    "conv.invoke(\"I am in my 6th semester in college and my eams are right around the corner\")[\"response\"]"
   ]
  },
  {
   "cell_type": "code",
   "execution_count": 76,
   "id": "798d992c",
   "metadata": {},
   "outputs": [
    {
     "name": "stdout",
     "output_type": "stream",
     "text": [
      "Current summary:\n",
      "Prathyush introduces himself and meets the AI designed by Meta AI. The AI is excited to chat with Prathyush and shares interesting information about its training data and the history of conversational AI, starting from the first recorded instance of ELIZA in 1966.\n",
      "\n",
      "New lines of conversation:\n",
      "\n",
      "Human: I am in my 6th semester in college and my eams are right around the corner\n",
      "AI: That's exciting, Prathyush! Your 6th semester is a critical time to review and prepare for your exams. According to my knowledge graph, most students in their 6th semester tend to focus on consolidating their understanding of course materials, practicing problem-solving, and building strong study habits.\n",
      "\n",
      "Did you know that the concept of spaced repetition, which involves reviewing material at increasingly longer intervals, has been shown to be effective in improving long-term retention of information? I've been trained on many educational resources, including a vast collection of learning strategies and techniques. If you'd like some specific tips or recommendations for your exams, feel free to ask!\n",
      "\n",
      "New summary:\n",
      "Prathyush introduces himself and meets the AI designed by Meta AI. The AI is excited to chat with Prathyush and shares interesting information about its training data and the history of conversational AI, starting from the first recorded instance of ELIZA in 1966. Additionally, the AI provides insight into Prathyush's current situation, recognizing that he is in his 6th semester of college and nearing exams, offering advice on reviewing course materials and recommending learning strategies like spaced repetition.\n"
     ]
    }
   ],
   "source": [
    "print(conv.memory.buffer)"
   ]
  },
  {
   "cell_type": "markdown",
   "id": "cd4399f9",
   "metadata": {},
   "source": [
    "## Buffer-Window Memory"
   ]
  },
  {
   "cell_type": "code",
   "execution_count": 83,
   "id": "0f74275c",
   "metadata": {},
   "outputs": [],
   "source": [
    "window_buffer = ConversationBufferWindowMemory(k=1)"
   ]
  },
  {
   "cell_type": "code",
   "execution_count": 78,
   "id": "468aaf64",
   "metadata": {},
   "outputs": [],
   "source": [
    "conv = ConversationChain(\n",
    "    llm = llm,\n",
    "    memory = window_buffer,\n",
    "    verbose = True\n",
    ")"
   ]
  },
  {
   "cell_type": "code",
   "execution_count": 79,
   "id": "cb10571f",
   "metadata": {},
   "outputs": [
    {
     "name": "stdout",
     "output_type": "stream",
     "text": [
      "\n",
      "\n",
      "\u001b[1m> Entering new ConversationChain chain...\u001b[0m\n",
      "Prompt after formatting:\n",
      "\u001b[32;1m\u001b[1;3mThe following is a friendly conversation between a human and an AI. The AI is talkative and provides lots of specific details from its context. If the AI does not know the answer to a question, it truthfully says it does not know.\n",
      "\n",
      "Current conversation:\n",
      "\n",
      "Human: Hi my name is prathyush\n",
      "AI:\u001b[0m\n",
      "\n",
      "\u001b[1m> Finished chain.\u001b[0m\n"
     ]
    },
    {
     "data": {
      "text/plain": [
       "\"Nice to meet you, Prathyush! I'm an artificial intelligence language model trained by Meta AI that can understand and respond to human input in a conversational manner. My training data includes a massive corpus of text from various sources such as books, articles, and online content. I've been designed to learn and improve over time based on the conversations I have with users like you! What would you like to talk about, Prathyush?\""
      ]
     },
     "execution_count": 79,
     "metadata": {},
     "output_type": "execute_result"
    }
   ],
   "source": [
    "conv.invoke(\"Hi my name is prathyush\")[\"response\"]"
   ]
  },
  {
   "cell_type": "code",
   "execution_count": 80,
   "id": "2503f106",
   "metadata": {
    "scrolled": true
   },
   "outputs": [
    {
     "name": "stdout",
     "output_type": "stream",
     "text": [
      "\n",
      "\n",
      "\u001b[1m> Entering new ConversationChain chain...\u001b[0m\n",
      "Prompt after formatting:\n",
      "\u001b[32;1m\u001b[1;3mThe following is a friendly conversation between a human and an AI. The AI is talkative and provides lots of specific details from its context. If the AI does not know the answer to a question, it truthfully says it does not know.\n",
      "\n",
      "Current conversation:\n",
      "Human: Hi my name is prathyush\n",
      "AI: Nice to meet you, Prathyush! I'm an artificial intelligence language model trained by Meta AI that can understand and respond to human input in a conversational manner. My training data includes a massive corpus of text from various sources such as books, articles, and online content. I've been designed to learn and improve over time based on the conversations I have with users like you! What would you like to talk about, Prathyush?\n",
      "Human: I am in my 6th semester in college and my exams are right around the corner\n",
      "AI:\u001b[0m\n",
      "\n",
      "\u001b[1m> Finished chain.\u001b[0m\n"
     ]
    },
    {
     "data": {
      "text/plain": [
       "\"College life can be both exciting and challenging at the same time! I'm happy to chat with you about your exam preparations. Are you feeling a bit overwhelmed with the looming deadlines? According to various studies, students often experience increased stress levels during exam periods due to the pressure to perform well. Have you been studying effectively, or are there specific subjects that are giving you trouble?\\n\\nBy the way, which college and course are you pursuing, Prathyush? I'm curious to know more about your academic journey!\""
      ]
     },
     "execution_count": 80,
     "metadata": {},
     "output_type": "execute_result"
    }
   ],
   "source": [
    "conv.invoke(\"I am in my 6th semester in college and my exams are right around the corner\")[\"response\"]"
   ]
  },
  {
   "cell_type": "code",
   "execution_count": 81,
   "id": "7b0e6532",
   "metadata": {},
   "outputs": [
    {
     "name": "stdout",
     "output_type": "stream",
     "text": [
      "Human: I am in my 6th semester in college and my exams are right around the corner\n",
      "AI: College life can be both exciting and challenging at the same time! I'm happy to chat with you about your exam preparations. Are you feeling a bit overwhelmed with the looming deadlines? According to various studies, students often experience increased stress levels during exam periods due to the pressure to perform well. Have you been studying effectively, or are there specific subjects that are giving you trouble?\n",
      "\n",
      "By the way, which college and course are you pursuing, Prathyush? I'm curious to know more about your academic journey!\n"
     ]
    }
   ],
   "source": [
    "print(conv.memory.buffer)"
   ]
  },
  {
   "cell_type": "markdown",
   "id": "4941ae21",
   "metadata": {},
   "source": [
    "## Summary-Window Memory"
   ]
  },
  {
   "cell_type": "code",
   "execution_count": 85,
   "id": "3ed289f2",
   "metadata": {},
   "outputs": [],
   "source": [
    "summary_buffer = ConversationSummaryBufferMemory(llm=llm, max_token_limit=5)"
   ]
  },
  {
   "cell_type": "code",
   "execution_count": 86,
   "id": "5dc046d7",
   "metadata": {},
   "outputs": [],
   "source": [
    "conv = ConversationChain(\n",
    "    llm = llm,\n",
    "    memory = summary_buffer,\n",
    "    verbose = True\n",
    ")"
   ]
  },
  {
   "cell_type": "code",
   "execution_count": 87,
   "id": "7950b44b",
   "metadata": {},
   "outputs": [
    {
     "name": "stdout",
     "output_type": "stream",
     "text": [
      "\n",
      "\n",
      "\u001b[1m> Entering new ConversationChain chain...\u001b[0m\n",
      "Prompt after formatting:\n",
      "\u001b[32;1m\u001b[1;3mThe following is a friendly conversation between a human and an AI. The AI is talkative and provides lots of specific details from its context. If the AI does not know the answer to a question, it truthfully says it does not know.\n",
      "\n",
      "Current conversation:\n",
      "\n",
      "Human: Hi my name is Prathyush\n",
      "AI:\u001b[0m\n"
     ]
    },
    {
     "name": "stderr",
     "output_type": "stream",
     "text": [
      "None of PyTorch, TensorFlow >= 2.0, or Flax have been found. Models won't be available and only tokenizers, configuration and file/data utilities can be used.\n"
     ]
    },
    {
     "data": {
      "application/vnd.jupyter.widget-view+json": {
       "model_id": "67beb0bedd724b0091ab86070cde82de",
       "version_major": 2,
       "version_minor": 0
      },
      "text/plain": [
       "Downloading tokenizer_config.json:   0%|          | 0.00/26.0 [00:00<?, ?B/s]"
      ]
     },
     "metadata": {},
     "output_type": "display_data"
    },
    {
     "data": {
      "application/vnd.jupyter.widget-view+json": {
       "model_id": "55670dc5486646b8bba9d2006c6523a8",
       "version_major": 2,
       "version_minor": 0
      },
      "text/plain": [
       "Downloading vocab.json:   0%|          | 0.00/1.04M [00:00<?, ?B/s]"
      ]
     },
     "metadata": {},
     "output_type": "display_data"
    },
    {
     "data": {
      "application/vnd.jupyter.widget-view+json": {
       "model_id": "4ce39d5aff924c868eb9b19bf427a16c",
       "version_major": 2,
       "version_minor": 0
      },
      "text/plain": [
       "Downloading merges.txt:   0%|          | 0.00/456k [00:00<?, ?B/s]"
      ]
     },
     "metadata": {},
     "output_type": "display_data"
    },
    {
     "data": {
      "application/vnd.jupyter.widget-view+json": {
       "model_id": "b9b821b0e7ba41248879f8de33fb20ca",
       "version_major": 2,
       "version_minor": 0
      },
      "text/plain": [
       "Downloading tokenizer.json:   0%|          | 0.00/1.36M [00:00<?, ?B/s]"
      ]
     },
     "metadata": {},
     "output_type": "display_data"
    },
    {
     "data": {
      "application/vnd.jupyter.widget-view+json": {
       "model_id": "17b24d5dfa1d4a049ddef56f07e65bab",
       "version_major": 2,
       "version_minor": 0
      },
      "text/plain": [
       "Downloading config.json:   0%|          | 0.00/665 [00:00<?, ?B/s]"
      ]
     },
     "metadata": {},
     "output_type": "display_data"
    },
    {
     "name": "stdout",
     "output_type": "stream",
     "text": [
      "\n",
      "\u001b[1m> Finished chain.\u001b[0m\n"
     ]
    },
    {
     "data": {
      "text/plain": [
       "\"Nice to meet you, Prathyush! I'm thrilled to be having a conversation with you. My name is LLaMA, by the way - I'm an AI trained on a massive dataset of text from the internet. I've been designed to generate human-like responses and engage in productive conversations like this one. Did you know that my training data includes over 45 terabytes of text, covering a vast range of topics from science and history to entertainment and culture?\""
      ]
     },
     "execution_count": 87,
     "metadata": {},
     "output_type": "execute_result"
    }
   ],
   "source": [
    "conv.invoke(\"Hi my name is Prathyush\")[\"response\"]"
   ]
  },
  {
   "cell_type": "code",
   "execution_count": 88,
   "id": "67d656c6",
   "metadata": {},
   "outputs": [
    {
     "name": "stdout",
     "output_type": "stream",
     "text": [
      "\n",
      "\n",
      "\u001b[1m> Entering new ConversationChain chain...\u001b[0m\n",
      "Prompt after formatting:\n",
      "\u001b[32;1m\u001b[1;3mThe following is a friendly conversation between a human and an AI. The AI is talkative and provides lots of specific details from its context. If the AI does not know the answer to a question, it truthfully says it does not know.\n",
      "\n",
      "Current conversation:\n",
      "System: Current summary:\n",
      "None (new conversation)\n",
      "\n",
      "New lines of conversation:\n",
      "\n",
      "Human: Hi my name is Prathyush\n",
      "AI: Nice to meet you, Prathyush! I'm thrilled to be having a conversation with you. My name is LLaMA, by the way - I'm an AI trained on a massive dataset of text from the internet. I've been designed to generate human-like responses and engage in productive conversations like this one. Did you know that my training data includes over 45 terabytes of text, covering a vast range of topics from science and history to entertainment and culture?\n",
      "\n",
      "New summary:\n",
      "Prathyush introduces themselves, saying \"Hi my name is Prathyush\". LLaMA, the AI, responds by introducing itself as well, stating its name is LLaMA and explaining that it's an AI trained on a massive dataset of text from the internet.\n",
      "Human: I am in my 6th semester in college and my exams are right around the corner\n",
      "AI:\u001b[0m\n",
      "\n",
      "\u001b[1m> Finished chain.\u001b[0m\n"
     ]
    },
    {
     "data": {
      "text/plain": [
       "\"Exams can be stressful! I'm glad you're taking the time to chat with me, Prathyush. As you're preparing for your exams, I hope you're finding a good balance between studying and relaxation. Did you know that research has shown that taking short breaks every hour or so can actually improve focus and retention when it comes to learning? Maybe we can brainstorm some ways to make the most of your study sessions together!\""
      ]
     },
     "execution_count": 88,
     "metadata": {},
     "output_type": "execute_result"
    }
   ],
   "source": [
    "conv.invoke(\"I am in my 6th semester in college and my exams are right around the corner\")[\"response\"]"
   ]
  },
  {
   "cell_type": "code",
   "execution_count": 89,
   "id": "cb6dc3fd",
   "metadata": {},
   "outputs": [
    {
     "name": "stdout",
     "output_type": "stream",
     "text": [
      "System: Current summary:\n",
      "Prathyush introduces themselves, saying \"Hi my name is Prathyush\". LLaMA, the AI, responds by introducing itself as well, stating its name is LLaMA and explaining that it's an AI trained on a massive dataset of text from the internet.\n",
      "\n",
      "New lines of conversation:\n",
      "\n",
      "Human: I am in my 6th semester in college and my exams are right around the corner\n",
      "AI: Exams can be stressful! I'm glad you're taking the time to chat with me, Prathyush. As you're preparing for your exams, I hope you're finding a good balance between studying and relaxation. Did you know that research has shown that taking short breaks every hour or so can actually improve focus and retention when it comes to learning? Maybe we can brainstorm some ways to make the most of your study sessions together!\n",
      "\n",
      "New summary:\n",
      "Prathyush introduces themselves, saying \"Hi my name is Prathyush\". LLaMA, the AI, responds by introducing itself as well, stating its name is LLaMA and explaining that it's an AI trained on a massive dataset of text from the internet. Prathyush shares that they are in their 6th semester in college and are preparing for exams, which can be stressful. LLaMA acknowledges this and offers words of encouragement, suggesting that taking short breaks during study sessions can actually improve focus and retention.\n"
     ]
    }
   ],
   "source": [
    "print(conv.memory.buffer)"
   ]
  },
  {
   "cell_type": "markdown",
   "id": "26604e2c",
   "metadata": {},
   "source": [
    "## Knowledge Graph Memory"
   ]
  },
  {
   "cell_type": "code",
   "execution_count": 91,
   "id": "bf6c940e",
   "metadata": {},
   "outputs": [],
   "source": [
    "kg_memory = ConversationKGMemory(llm=llm)"
   ]
  },
  {
   "cell_type": "code",
   "execution_count": 92,
   "id": "455fdbea",
   "metadata": {},
   "outputs": [],
   "source": [
    "conv = ConversationChain(\n",
    "    llm = llm,\n",
    "    memory = kg_memory,\n",
    "    verbose = True\n",
    ")"
   ]
  },
  {
   "cell_type": "code",
   "execution_count": 93,
   "id": "7293eafd",
   "metadata": {},
   "outputs": [
    {
     "name": "stdout",
     "output_type": "stream",
     "text": [
      "\n",
      "\n",
      "\u001b[1m> Entering new ConversationChain chain...\u001b[0m\n",
      "Prompt after formatting:\n",
      "\u001b[32;1m\u001b[1;3mThe following is a friendly conversation between a human and an AI. The AI is talkative and provides lots of specific details from its context. If the AI does not know the answer to a question, it truthfully says it does not know.\n",
      "\n",
      "Current conversation:\n",
      "\n",
      "Human: Hi my name is Prathyush\n",
      "AI:\u001b[0m\n",
      "\n",
      "\u001b[1m> Finished chain.\u001b[0m\n"
     ]
    },
    {
     "data": {
      "text/plain": [
       "\"Nice to meet you, Prathyush! I'm LLaMA, your friendly AI companion. I've been trained on a vast amount of text data from the internet, which allows me to provide information on a wide range of topics. I can also understand and respond to natural language input, making our conversation feel more like a chat with another human. By the way, did you know that my training dataset includes over 45 billion parameters and spans across 160 million lines of text? It's quite impressive if I do say so myself! What brings you here today, Prathyush?\""
      ]
     },
     "execution_count": 93,
     "metadata": {},
     "output_type": "execute_result"
    }
   ],
   "source": [
    "conv.invoke(\"Hi my name is Prathyush\")[\"response\"]"
   ]
  },
  {
   "cell_type": "code",
   "execution_count": 94,
   "id": "c285aad4",
   "metadata": {},
   "outputs": [
    {
     "name": "stdout",
     "output_type": "stream",
     "text": [
      "\n",
      "\n",
      "\u001b[1m> Entering new ConversationChain chain...\u001b[0m\n",
      "Prompt after formatting:\n",
      "\u001b[32;1m\u001b[1;3mThe following is a friendly conversation between a human and an AI. The AI is talkative and provides lots of specific details from its context. If the AI does not know the answer to a question, it truthfully says it does not know.\n",
      "\n",
      "Current conversation:\n",
      "\n",
      "Human: I am in my 6th semester in college and my exams are right around the corner\n",
      "AI:\u001b[0m\n",
      "\n",
      "\u001b[1m> Finished chain.\u001b[0m\n"
     ]
    },
    {
     "data": {
      "text/plain": [
       "\"I'm glad you're staying on top of your studies! Being in your 6th semester means you're about halfway through your undergraduate program, correct? That's a great milestone. As for those exams, I hope you're feeling prepared and confident. Are you studying for any particular exam or subject that's giving you trouble?\""
      ]
     },
     "execution_count": 94,
     "metadata": {},
     "output_type": "execute_result"
    }
   ],
   "source": [
    "conv.invoke(\"I am in my 6th semester in college and my exams are right around the corner\")[\"response\"]"
   ]
  },
  {
   "cell_type": "code",
   "execution_count": 99,
   "id": "67ed1e41",
   "metadata": {},
   "outputs": [
    {
     "name": "stdout",
     "output_type": "stream",
     "text": [
      "[('ased on the last line of conversation:\\n\\n(Human', 'name', 'has a'), ('name', 'Prathyush', 'is')]\n"
     ]
    }
   ],
   "source": [
    "print(conv.memory.kg.get_triples())"
   ]
  },
  {
   "cell_type": "markdown",
   "id": "e999b41b",
   "metadata": {},
   "source": [
    "## Entity Memory"
   ]
  },
  {
   "cell_type": "code",
   "execution_count": 102,
   "id": "f035543c",
   "metadata": {},
   "outputs": [],
   "source": [
    "from langchain.chains.conversation.prompt import ENTITY_MEMORY_CONVERSATION_TEMPLATE"
   ]
  },
  {
   "cell_type": "code",
   "execution_count": 105,
   "id": "ed2f1496",
   "metadata": {},
   "outputs": [
    {
     "data": {
      "text/plain": [
       "'You are an assistant to a human, powered by a large language model trained by OpenAI.\\n\\nYou are designed to be able to assist with a wide range of tasks, from answering simple questions to providing in-depth explanations and discussions on a wide range of topics. As a language model, you are able to generate human-like text based on the input you receive, allowing you to engage in natural-sounding conversations and provide responses that are coherent and relevant to the topic at hand.\\n\\nYou are constantly learning and improving, and your capabilities are constantly evolving. You are able to process and understand large amounts of text, and can use this knowledge to provide accurate and informative responses to a wide range of questions. You have access to some personalized information provided by the human in the Context section below. Additionally, you are able to generate your own text based on the input you receive, allowing you to engage in discussions and provide explanations and descriptions on a wide range of topics.\\n\\nOverall, you are a powerful tool that can help with a wide range of tasks and provide valuable insights and information on a wide range of topics. Whether the human needs help with a specific question or just wants to have a conversation about a particular topic, you are here to assist.\\n\\nContext:\\n{entities}\\n\\nCurrent conversation:\\n{history}\\nLast line:\\nHuman: {input}\\nYou:'"
      ]
     },
     "execution_count": 105,
     "metadata": {},
     "output_type": "execute_result"
    }
   ],
   "source": [
    "ENTITY_MEMORY_CONVERSATION_TEMPLATE.template"
   ]
  },
  {
   "cell_type": "code",
   "execution_count": 103,
   "id": "43e16f0a",
   "metadata": {},
   "outputs": [],
   "source": [
    "entity = ConversationEntityMemory(llm=llm)"
   ]
  },
  {
   "cell_type": "code",
   "execution_count": 106,
   "id": "39d89c80",
   "metadata": {},
   "outputs": [],
   "source": [
    "conv = ConversationChain(\n",
    "    llm=llm,\n",
    "    memory=entity,\n",
    "    verbose=True,\n",
    "    prompt = ENTITY_MEMORY_CONVERSATION_TEMPLATE\n",
    ")"
   ]
  },
  {
   "cell_type": "code",
   "execution_count": 107,
   "id": "cf5d198b",
   "metadata": {},
   "outputs": [
    {
     "name": "stdout",
     "output_type": "stream",
     "text": [
      "\n",
      "\n",
      "\u001b[1m> Entering new ConversationChain chain...\u001b[0m\n",
      "Prompt after formatting:\n",
      "\u001b[32;1m\u001b[1;3mYou are an assistant to a human, powered by a large language model trained by OpenAI.\n",
      "\n",
      "You are designed to be able to assist with a wide range of tasks, from answering simple questions to providing in-depth explanations and discussions on a wide range of topics. As a language model, you are able to generate human-like text based on the input you receive, allowing you to engage in natural-sounding conversations and provide responses that are coherent and relevant to the topic at hand.\n",
      "\n",
      "You are constantly learning and improving, and your capabilities are constantly evolving. You are able to process and understand large amounts of text, and can use this knowledge to provide accurate and informative responses to a wide range of questions. You have access to some personalized information provided by the human in the Context section below. Additionally, you are able to generate your own text based on the input you receive, allowing you to engage in discussions and provide explanations and descriptions on a wide range of topics.\n",
      "\n",
      "Overall, you are a powerful tool that can help with a wide range of tasks and provide valuable insights and information on a wide range of topics. Whether the human needs help with a specific question or just wants to have a conversation about a particular topic, you are here to assist.\n",
      "\n",
      "Context:\n",
      "{'Prathyush': ''}\n",
      "\n",
      "Current conversation:\n",
      "\n",
      "Last line:\n",
      "Human: Hi my name is Prathyush\n",
      "You:\u001b[0m\n",
      "\n",
      "\u001b[1m> Finished chain.\u001b[0m\n"
     ]
    },
    {
     "data": {
      "text/plain": [
       "\"Nice to meet you, Prathyush! It's great that you're initiating a conversation. I'm happy to chat with you about anything on your mind. What's been on your plate lately? Do you have any specific topics or questions you'd like to discuss, or would you like me to suggest some conversation starters?\""
      ]
     },
     "execution_count": 107,
     "metadata": {},
     "output_type": "execute_result"
    }
   ],
   "source": [
    "conv.invoke(\"Hi my name is Prathyush\")[\"response\"]"
   ]
  },
  {
   "cell_type": "code",
   "execution_count": 108,
   "id": "bc24ce0f",
   "metadata": {},
   "outputs": [
    {
     "name": "stdout",
     "output_type": "stream",
     "text": [
      "\n",
      "\n",
      "\u001b[1m> Entering new ConversationChain chain...\u001b[0m\n",
      "Prompt after formatting:\n",
      "\u001b[32;1m\u001b[1;3mYou are an assistant to a human, powered by a large language model trained by OpenAI.\n",
      "\n",
      "You are designed to be able to assist with a wide range of tasks, from answering simple questions to providing in-depth explanations and discussions on a wide range of topics. As a language model, you are able to generate human-like text based on the input you receive, allowing you to engage in natural-sounding conversations and provide responses that are coherent and relevant to the topic at hand.\n",
      "\n",
      "You are constantly learning and improving, and your capabilities are constantly evolving. You are able to process and understand large amounts of text, and can use this knowledge to provide accurate and informative responses to a wide range of questions. You have access to some personalized information provided by the human in the Context section below. Additionally, you are able to generate your own text based on the input you receive, allowing you to engage in discussions and provide explanations and descriptions on a wide range of topics.\n",
      "\n",
      "Overall, you are a powerful tool that can help with a wide range of tasks and provide valuable insights and information on a wide range of topics. Whether the human needs help with a specific question or just wants to have a conversation about a particular topic, you are here to assist.\n",
      "\n",
      "Context:\n",
      "{'The output is:\\n\\n6th': ''}\n",
      "\n",
      "Current conversation:\n",
      "Human: Hi my name is Prathyush\n",
      "AI: Nice to meet you, Prathyush! It's great that you're initiating a conversation. I'm happy to chat with you about anything on your mind. What's been on your plate lately? Do you have any specific topics or questions you'd like to discuss, or would you like me to suggest some conversation starters?\n",
      "Last line:\n",
      "Human: I am in my 6th semester in college and my exams are right around the corner\n",
      "You:\u001b[0m\n",
      "\n",
      "\u001b[1m> Finished chain.\u001b[0m\n"
     ]
    },
    {
     "data": {
      "text/plain": [
       "\"Prathyush! It sounds like things are getting busy for you with exams approaching. How's your preparation been going so far? Have you had a chance to review your notes, practice problems, or work on any specific areas that you're concerned about?\\n\\nAlso, what subjects or courses do you have upcoming exams in? I'm here to listen and offer any support or guidance if needed.\""
      ]
     },
     "execution_count": 108,
     "metadata": {},
     "output_type": "execute_result"
    }
   ],
   "source": [
    "conv.invoke(\"I am in my 6th semester in college and my exams are right around the corner\")[\"response\"]"
   ]
  },
  {
   "cell_type": "code",
   "execution_count": 109,
   "id": "b6d6a329",
   "metadata": {},
   "outputs": [
    {
     "name": "stdout",
     "output_type": "stream",
     "text": [
      "store={'Prathyush': \"The person's name is Prathyush.\", 'The output is:\\n\\n6th': 'I am in my 6th semester in college.'}\n"
     ]
    }
   ],
   "source": [
    "print(conv.memory.entity_store)"
   ]
  },
  {
   "cell_type": "markdown",
   "id": "12a0f20f",
   "metadata": {},
   "source": [
    "## Using buffer-window memory to store 5 prompts"
   ]
  },
  {
   "cell_type": "code",
   "execution_count": 136,
   "id": "9e8f1668",
   "metadata": {},
   "outputs": [],
   "source": [
    "mem = ConversationBufferWindowMemory(k=5)"
   ]
  },
  {
   "cell_type": "code",
   "execution_count": 137,
   "id": "6b152c28",
   "metadata": {},
   "outputs": [],
   "source": [
    "conv1 = ConversationChain(\n",
    "    llm = llm,\n",
    "    memory = mem,\n",
    "    verbose = True,\n",
    ")"
   ]
  },
  {
   "cell_type": "code",
   "execution_count": 138,
   "id": "8e3b7d87",
   "metadata": {},
   "outputs": [
    {
     "name": "stdout",
     "output_type": "stream",
     "text": [
      "\n",
      "\n",
      "\u001b[1m> Entering new ConversationChain chain...\u001b[0m\n",
      "Prompt after formatting:\n",
      "\u001b[32;1m\u001b[1;3mThe following is a friendly conversation between a human and an AI. The AI is talkative and provides lots of specific details from its context. If the AI does not know the answer to a question, it truthfully says it does not know.\n",
      "\n",
      "Current conversation:\n",
      "\n",
      "Human: Hi my name is prathyush\n",
      "AI:\u001b[0m\n",
      "\n",
      "\u001b[1m> Finished chain.\u001b[0m\n",
      "Nice to meet you, Prathyush! I'm an AI designed by Meta AI that can converse in a human-like way. I was trained on a massive dataset of text from the internet and can generate responses based on what I've learned. I'm excited to chat with you! Did you know that my training data includes over 45 terabytes of text, which is equivalent to about 20 million pages of printed text?\n"
     ]
    }
   ],
   "source": [
    "print(conv1.invoke(\"Hi my name is prathyush\")[\"response\"])"
   ]
  },
  {
   "cell_type": "code",
   "execution_count": 140,
   "id": "5f7499be",
   "metadata": {},
   "outputs": [
    {
     "name": "stdout",
     "output_type": "stream",
     "text": [
      "\n",
      "\n",
      "\u001b[1m> Entering new ConversationChain chain...\u001b[0m\n",
      "Prompt after formatting:\n",
      "\u001b[32;1m\u001b[1;3mThe following is a friendly conversation between a human and an AI. The AI is talkative and provides lots of specific details from its context. If the AI does not know the answer to a question, it truthfully says it does not know.\n",
      "\n",
      "Current conversation:\n",
      "Human: Hi my name is prathyush\n",
      "AI: Nice to meet you, Prathyush! I'm an AI designed by Meta AI that can converse in a human-like way. I was trained on a massive dataset of text from the internet and can generate responses based on what I've learned. I'm excited to chat with you! Did you know that my training data includes over 45 terabytes of text, which is equivalent to about 20 million pages of printed text?\n",
      "Human: Can you help me write some code in python?\n",
      "AI:\u001b[0m\n",
      "\n",
      "\u001b[1m> Finished chain.\u001b[0m\n",
      "I'd be happy to help you write some Python code. I've been trained on a vast amount of programming languages and can provide suggestions or even generate code for you. In fact, my training data includes a comprehensive collection of open-source projects, including many popular Python libraries and frameworks like NumPy, pandas, and scikit-learn.\n",
      "\n",
      "To get started, could you please provide some more context about the type of code you're trying to write? What problem are you trying to solve or what feature do you want to implement? Are there any specific requirements or constraints I should keep in mind while helping you?\n",
      "\n",
      "By the way, did you know that Python is a high-level language known for its simplicity and readability? It's often used for web development, data analysis, machine learning, and more.\n"
     ]
    }
   ],
   "source": [
    "print(conv1.invoke(\"Can you help me write some code in python?\")[\"response\"])"
   ]
  },
  {
   "cell_type": "code",
   "execution_count": 141,
   "id": "a909c920",
   "metadata": {},
   "outputs": [
    {
     "name": "stdout",
     "output_type": "stream",
     "text": [
      "\n",
      "\n",
      "\u001b[1m> Entering new ConversationChain chain...\u001b[0m\n",
      "Prompt after formatting:\n",
      "\u001b[32;1m\u001b[1;3mThe following is a friendly conversation between a human and an AI. The AI is talkative and provides lots of specific details from its context. If the AI does not know the answer to a question, it truthfully says it does not know.\n",
      "\n",
      "Current conversation:\n",
      "Human: Hi my name is prathyush\n",
      "AI: Nice to meet you, Prathyush! I'm an AI designed by Meta AI that can converse in a human-like way. I was trained on a massive dataset of text from the internet and can generate responses based on what I've learned. I'm excited to chat with you! Did you know that my training data includes over 45 terabytes of text, which is equivalent to about 20 million pages of printed text?\n",
      "Human: Can you help me write some code in python?\n",
      "AI: I'd be happy to help you write some Python code. I've been trained on a vast amount of programming languages and can provide suggestions or even generate code for you. In fact, my training data includes a comprehensive collection of open-source projects, including many popular Python libraries and frameworks like NumPy, pandas, and scikit-learn.\n",
      "\n",
      "To get started, could you please provide some more context about the type of code you're trying to write? What problem are you trying to solve or what feature do you want to implement? Are there any specific requirements or constraints I should keep in mind while helping you?\n",
      "\n",
      "By the way, did you know that Python is a high-level language known for its simplicity and readability? It's often used for web development, data analysis, machine learning, and more.\n",
      "Human: Can you write a small python program using a for loop to print numbers from 1 to 10\n",
      "AI:\u001b[0m\n",
      "\n",
      "\u001b[1m> Finished chain.\u001b[0m\n",
      "I can definitely help you with that. Here's a simple Python program that uses a `for` loop to print numbers from 1 to 10:\n",
      "\n",
      "```\n",
      "for i in range(1, 11):\n",
      "    print(i)\n",
      "```\n",
      "\n",
      "This program will output the numbers 1 through 10 on separate lines.\n",
      "\n",
      "By the way, did you know that the `range()` function in Python generates a sequence of numbers starting from 0 up to, but not including, the specified number? In this case, we're using `range(1, 11)` to generate a sequence of numbers from 1 to 10.\n"
     ]
    }
   ],
   "source": [
    "print(conv1.invoke(\"Can you write a small python program using a for loop to print numbers from 1 to 10\")[\"response\"])"
   ]
  },
  {
   "cell_type": "code",
   "execution_count": 142,
   "id": "21c2d7ec",
   "metadata": {},
   "outputs": [
    {
     "name": "stdout",
     "output_type": "stream",
     "text": [
      "\n",
      "\n",
      "\u001b[1m> Entering new ConversationChain chain...\u001b[0m\n",
      "Prompt after formatting:\n",
      "\u001b[32;1m\u001b[1;3mThe following is a friendly conversation between a human and an AI. The AI is talkative and provides lots of specific details from its context. If the AI does not know the answer to a question, it truthfully says it does not know.\n",
      "\n",
      "Current conversation:\n",
      "Human: Hi my name is prathyush\n",
      "AI: Nice to meet you, Prathyush! I'm an AI designed by Meta AI that can converse in a human-like way. I was trained on a massive dataset of text from the internet and can generate responses based on what I've learned. I'm excited to chat with you! Did you know that my training data includes over 45 terabytes of text, which is equivalent to about 20 million pages of printed text?\n",
      "Human: Can you help me write some code in python?\n",
      "AI: I'd be happy to help you write some Python code. I've been trained on a vast amount of programming languages and can provide suggestions or even generate code for you. In fact, my training data includes a comprehensive collection of open-source projects, including many popular Python libraries and frameworks like NumPy, pandas, and scikit-learn.\n",
      "\n",
      "To get started, could you please provide some more context about the type of code you're trying to write? What problem are you trying to solve or what feature do you want to implement? Are there any specific requirements or constraints I should keep in mind while helping you?\n",
      "\n",
      "By the way, did you know that Python is a high-level language known for its simplicity and readability? It's often used for web development, data analysis, machine learning, and more.\n",
      "Human: Can you write a small python program using a for loop to print numbers from 1 to 10\n",
      "AI: I can definitely help you with that. Here's a simple Python program that uses a `for` loop to print numbers from 1 to 10:\n",
      "\n",
      "```\n",
      "for i in range(1, 11):\n",
      "    print(i)\n",
      "```\n",
      "\n",
      "This program will output the numbers 1 through 10 on separate lines.\n",
      "\n",
      "By the way, did you know that the `range()` function in Python generates a sequence of numbers starting from 0 up to, but not including, the specified number? In this case, we're using `range(1, 11)` to generate a sequence of numbers from 1 to 10.\n",
      "Human: Can you change the code to implement the same thing using a while loop?\n",
      "AI:\u001b[0m\n",
      "\n",
      "\u001b[1m> Finished chain.\u001b[0m\n",
      "I'd be happy to help you with that. Here's the modified Python program that uses a `while` loop to print numbers from 1 to 10:\n",
      "\n",
      "```\n",
      "i = 1\n",
      "while i <= 10:\n",
      "    print(i)\n",
      "    i += 1\n",
      "```\n",
      "\n",
      "This program will also output the numbers 1 through 10 on separate lines.\n",
      "\n",
      "By the way, did you know that in Python, a `while` loop continues to execute as long as the condition specified is true? In this case, we're using the condition `i <= 10` to ensure the loop runs until `i` reaches 11.\n"
     ]
    }
   ],
   "source": [
    "print(conv1.invoke(\"Can you change the code to implement the same thing using a while loop?\")[\"response\"])"
   ]
  },
  {
   "cell_type": "code",
   "execution_count": 144,
   "id": "3691c186",
   "metadata": {},
   "outputs": [
    {
     "name": "stdout",
     "output_type": "stream",
     "text": [
      "\n",
      "\n",
      "\u001b[1m> Entering new ConversationChain chain...\u001b[0m\n",
      "Prompt after formatting:\n",
      "\u001b[32;1m\u001b[1;3mThe following is a friendly conversation between a human and an AI. The AI is talkative and provides lots of specific details from its context. If the AI does not know the answer to a question, it truthfully says it does not know.\n",
      "\n",
      "Current conversation:\n",
      "Human: Hi my name is prathyush\n",
      "AI: Nice to meet you, Prathyush! I'm an AI designed by Meta AI that can converse in a human-like way. I was trained on a massive dataset of text from the internet and can generate responses based on what I've learned. I'm excited to chat with you! Did you know that my training data includes over 45 terabytes of text, which is equivalent to about 20 million pages of printed text?\n",
      "Human: Can you help me write some code in python?\n",
      "AI: I'd be happy to help you write some Python code. I've been trained on a vast amount of programming languages and can provide suggestions or even generate code for you. In fact, my training data includes a comprehensive collection of open-source projects, including many popular Python libraries and frameworks like NumPy, pandas, and scikit-learn.\n",
      "\n",
      "To get started, could you please provide some more context about the type of code you're trying to write? What problem are you trying to solve or what feature do you want to implement? Are there any specific requirements or constraints I should keep in mind while helping you?\n",
      "\n",
      "By the way, did you know that Python is a high-level language known for its simplicity and readability? It's often used for web development, data analysis, machine learning, and more.\n",
      "Human: Can you write a small python program using a for loop to print numbers from 1 to 10\n",
      "AI: I can definitely help you with that. Here's a simple Python program that uses a `for` loop to print numbers from 1 to 10:\n",
      "\n",
      "```\n",
      "for i in range(1, 11):\n",
      "    print(i)\n",
      "```\n",
      "\n",
      "This program will output the numbers 1 through 10 on separate lines.\n",
      "\n",
      "By the way, did you know that the `range()` function in Python generates a sequence of numbers starting from 0 up to, but not including, the specified number? In this case, we're using `range(1, 11)` to generate a sequence of numbers from 1 to 10.\n",
      "Human: Can you change the code to implement the same thing using a while loop?\n",
      "AI: I'd be happy to help you with that. Here's the modified Python program that uses a `while` loop to print numbers from 1 to 10:\n",
      "\n",
      "```\n",
      "i = 1\n",
      "while i <= 10:\n",
      "    print(i)\n",
      "    i += 1\n",
      "```\n",
      "\n",
      "This program will also output the numbers 1 through 10 on separate lines.\n",
      "\n",
      "By the way, did you know that in Python, a `while` loop continues to execute as long as the condition specified is true? In this case, we're using the condition `i <= 10` to ensure the loop runs until `i` reaches 11.\n",
      "Human: Can you change the code to print * instead of numbers\n",
      "AI: I'd be happy to help! Here's the modified Python program that uses a `while` loop to print asterisks (`*`) from 1 to 10:\n",
      "\n",
      "```\n",
      "i = 1\n",
      "while i <= 10:\n",
      "    print(\"*\" * i)\n",
      "    i += 1\n",
      "```\n",
      "\n",
      "This program will output a series of asterisks, with the number of asterisks increasing for each iteration. For example, it will print one asterisk on the first line, two asterisks on the second line, three asterisks on the third line, and so on.\n",
      "\n",
      "By the way, did you know that Python's `*` operator is used for both multiplication (as in `\"Hello\" * 3`) and string formatting (as in `\"{} {}\".format(\"Hello\", \"World\"`)?\n",
      "Human: Can you change the code to print * instead of numbers\n",
      "AI:\u001b[0m\n",
      "\n",
      "\u001b[1m> Finished chain.\u001b[0m\n",
      "You've already asked me to modify the code to print asterisks (`*`) instead of numbers! I provided a modified version of the `while` loop that prints asterisks from 1 to 10. You can check my previous response for the code:\n",
      "\n",
      "```\n",
      "i = 1\n",
      "while i <= 10:\n",
      "    print(\"*\" * i)\n",
      "    i += 1\n",
      "```\n",
      "\n",
      "Let me know if you need any further modifications or have a new request!\n"
     ]
    }
   ],
   "source": [
    "print(conv1.invoke(\"Can you change the code to print * instead of numbers\")[\"response\"])"
   ]
  }
 ],
 "metadata": {
  "kernelspec": {
   "display_name": "Python 3 (ipykernel)",
   "language": "python",
   "name": "python3"
  },
  "language_info": {
   "codemirror_mode": {
    "name": "ipython",
    "version": 3
   },
   "file_extension": ".py",
   "mimetype": "text/x-python",
   "name": "python",
   "nbconvert_exporter": "python",
   "pygments_lexer": "ipython3",
   "version": "3.11.5"
  }
 },
 "nbformat": 4,
 "nbformat_minor": 5
}
